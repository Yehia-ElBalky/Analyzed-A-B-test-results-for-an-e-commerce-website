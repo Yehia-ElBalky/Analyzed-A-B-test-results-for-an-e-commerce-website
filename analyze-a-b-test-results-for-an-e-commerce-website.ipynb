{
 "cells": [
  {
   "cell_type": "markdown",
   "id": "ffeef8b6",
   "metadata": {
    "papermill": {
     "duration": 0.046967,
     "end_time": "2021-10-24T22:23:43.946372",
     "exception": false,
     "start_time": "2021-10-24T22:23:43.899405",
     "status": "completed"
    },
    "tags": []
   },
   "source": [
    "# Analyze A/B Test Results \n",
    "\n",
    "This notebook is organized into the following sections: \n",
    "\n",
    "- [Introduction](#intro)\n",
    "- [Part I - Probability](#probability)\n",
    "- [Part II - A/B Test](#ab_test)\n",
    "- [Part III - Regression](#regression)\n",
    "\n",
    "\n",
    "<a id='intro'></a>\n",
    "## Introduction\n",
    "\n",
    "A/B tests are very commonly performed by data analysts and data scientists. For this project, I will be working to understand the results of an A/B test run by an e-commerce website.  My goal is to work through this notebook to help the company understand if they should:\n",
    "- Implement the new webpage, \n",
    "- Keep the old webpage, or \n",
    "- Perhaps run the experiment longer to make their decision.\n",
    "\n",
    "\n",
    "\n",
    "<a id='probability'></a>\n",
    "## Part I - Probability\n",
    "\n",
    "To get started, let's import our libraries."
   ]
  },
  {
   "cell_type": "code",
   "execution_count": 1,
   "id": "c5b89760",
   "metadata": {
    "execution": {
     "iopub.execute_input": "2021-10-24T22:23:44.043312Z",
     "iopub.status.busy": "2021-10-24T22:23:44.042102Z",
     "iopub.status.idle": "2021-10-24T22:23:44.055502Z",
     "shell.execute_reply": "2021-10-24T22:23:44.056072Z",
     "shell.execute_reply.started": "2021-10-24T21:21:57.181385Z"
    },
    "papermill": {
     "duration": 0.063841,
     "end_time": "2021-10-24T22:23:44.056375",
     "exception": false,
     "start_time": "2021-10-24T22:23:43.992534",
     "status": "completed"
    },
    "tags": []
   },
   "outputs": [],
   "source": [
    "import pandas as pd\n",
    "import numpy as np\n",
    "import random\n",
    "import matplotlib.pyplot as plt\n",
    "%matplotlib inline\n",
    "#We are setting the seed to assure you get the same answers on quizzes as we set up\n",
    "random.seed(42)"
   ]
  },
  {
   "cell_type": "markdown",
   "id": "f49b3bfe",
   "metadata": {
    "papermill": {
     "duration": 0.044643,
     "end_time": "2021-10-24T22:23:44.146258",
     "exception": false,
     "start_time": "2021-10-24T22:23:44.101615",
     "status": "completed"
    },
    "tags": []
   },
   "source": [
    "Now, I will read in the `ab_data.csv` data. Store it in `df`. Below is the description of the data, there are a total of 5 columns:\n",
    "\n",
    "- user_id: unique ID. (Int64 values)\n",
    "- timestamp: time stamp when the user visited the webpage.\n",
    "- group: in the current A/B experiment, the users are categorized into two broad groups. <br>The `control` group users are expected to be served with `old_page`; and `treatment` group users are matched with the `new_page`. <br>However, **some inaccurate rows** are present in the initial data, such as a `control` group user is matched with a `new_page`. (`['control', 'treatment']`)\n",
    "- landing_page: it denotes whether the user visited the old or new webpage. (`['old_page', 'new_page']`)\n",
    "- converted: it denotes whether the user decided to pay for the company's product. Here, `1` means yes, the user bought the product. (`[0, 1]`)\n",
    "\n",
    "\n",
    "**a.** Reading in the dataset from the `ab_data.csv` file and taking a look at the top few rows:"
   ]
  },
  {
   "cell_type": "code",
   "execution_count": 2,
   "id": "5936a5b9",
   "metadata": {
    "execution": {
     "iopub.execute_input": "2021-10-24T22:23:44.243040Z",
     "iopub.status.busy": "2021-10-24T22:23:44.242370Z",
     "iopub.status.idle": "2021-10-24T22:23:44.884816Z",
     "shell.execute_reply": "2021-10-24T22:23:44.885379Z",
     "shell.execute_reply.started": "2021-10-24T21:21:57.215452Z"
    },
    "papermill": {
     "duration": 0.694189,
     "end_time": "2021-10-24T22:23:44.885602",
     "exception": false,
     "start_time": "2021-10-24T22:23:44.191413",
     "status": "completed"
    },
    "tags": []
   },
   "outputs": [
    {
     "data": {
      "text/html": [
       "<div>\n",
       "<style scoped>\n",
       "    .dataframe tbody tr th:only-of-type {\n",
       "        vertical-align: middle;\n",
       "    }\n",
       "\n",
       "    .dataframe tbody tr th {\n",
       "        vertical-align: top;\n",
       "    }\n",
       "\n",
       "    .dataframe thead th {\n",
       "        text-align: right;\n",
       "    }\n",
       "</style>\n",
       "<table border=\"1\" class=\"dataframe\">\n",
       "  <thead>\n",
       "    <tr style=\"text-align: right;\">\n",
       "      <th></th>\n",
       "      <th>user_id</th>\n",
       "      <th>timestamp</th>\n",
       "      <th>group</th>\n",
       "      <th>landing_page</th>\n",
       "      <th>converted</th>\n",
       "    </tr>\n",
       "  </thead>\n",
       "  <tbody>\n",
       "    <tr>\n",
       "      <th>0</th>\n",
       "      <td>851104</td>\n",
       "      <td>2017-01-21 22:11:48.556739</td>\n",
       "      <td>control</td>\n",
       "      <td>old_page</td>\n",
       "      <td>0</td>\n",
       "    </tr>\n",
       "    <tr>\n",
       "      <th>1</th>\n",
       "      <td>804228</td>\n",
       "      <td>2017-01-12 08:01:45.159739</td>\n",
       "      <td>control</td>\n",
       "      <td>old_page</td>\n",
       "      <td>0</td>\n",
       "    </tr>\n",
       "    <tr>\n",
       "      <th>2</th>\n",
       "      <td>661590</td>\n",
       "      <td>2017-01-11 16:55:06.154213</td>\n",
       "      <td>treatment</td>\n",
       "      <td>new_page</td>\n",
       "      <td>0</td>\n",
       "    </tr>\n",
       "    <tr>\n",
       "      <th>3</th>\n",
       "      <td>853541</td>\n",
       "      <td>2017-01-08 18:28:03.143765</td>\n",
       "      <td>treatment</td>\n",
       "      <td>new_page</td>\n",
       "      <td>0</td>\n",
       "    </tr>\n",
       "    <tr>\n",
       "      <th>4</th>\n",
       "      <td>864975</td>\n",
       "      <td>2017-01-21 01:52:26.210827</td>\n",
       "      <td>control</td>\n",
       "      <td>old_page</td>\n",
       "      <td>1</td>\n",
       "    </tr>\n",
       "  </tbody>\n",
       "</table>\n",
       "</div>"
      ],
      "text/plain": [
       "   user_id                   timestamp      group landing_page  converted\n",
       "0   851104  2017-01-21 22:11:48.556739    control     old_page          0\n",
       "1   804228  2017-01-12 08:01:45.159739    control     old_page          0\n",
       "2   661590  2017-01-11 16:55:06.154213  treatment     new_page          0\n",
       "3   853541  2017-01-08 18:28:03.143765  treatment     new_page          0\n",
       "4   864975  2017-01-21 01:52:26.210827    control     old_page          1"
      ]
     },
     "execution_count": 2,
     "metadata": {},
     "output_type": "execute_result"
    }
   ],
   "source": [
    "df = pd.read_csv('../input/ab-data/ab_data.csv')\n",
    "df.head()"
   ]
  },
  {
   "cell_type": "markdown",
   "id": "e3a9ec01",
   "metadata": {
    "papermill": {
     "duration": 0.048443,
     "end_time": "2021-10-24T22:23:44.981326",
     "exception": false,
     "start_time": "2021-10-24T22:23:44.932883",
     "status": "completed"
    },
    "tags": []
   },
   "source": [
    "**b.** The number of rows in the dataset."
   ]
  },
  {
   "cell_type": "code",
   "execution_count": 3,
   "id": "9d6bcf63",
   "metadata": {
    "execution": {
     "iopub.execute_input": "2021-10-24T22:23:45.170336Z",
     "iopub.status.busy": "2021-10-24T22:23:45.169367Z",
     "iopub.status.idle": "2021-10-24T22:23:45.173598Z",
     "shell.execute_reply": "2021-10-24T22:23:45.173044Z",
     "shell.execute_reply.started": "2021-10-24T21:21:57.856821Z"
    },
    "papermill": {
     "duration": 0.058003,
     "end_time": "2021-10-24T22:23:45.173757",
     "exception": false,
     "start_time": "2021-10-24T22:23:45.115754",
     "status": "completed"
    },
    "tags": []
   },
   "outputs": [
    {
     "data": {
      "text/plain": [
       "294478"
      ]
     },
     "execution_count": 3,
     "metadata": {},
     "output_type": "execute_result"
    }
   ],
   "source": [
    "df.shape[0]"
   ]
  },
  {
   "cell_type": "markdown",
   "id": "dcb8bffc",
   "metadata": {
    "papermill": {
     "duration": 0.046225,
     "end_time": "2021-10-24T22:23:45.266863",
     "exception": false,
     "start_time": "2021-10-24T22:23:45.220638",
     "status": "completed"
    },
    "tags": []
   },
   "source": [
    "**c.** The number of unique users in the dataset."
   ]
  },
  {
   "cell_type": "code",
   "execution_count": 4,
   "id": "ba5f2f7e",
   "metadata": {
    "execution": {
     "iopub.execute_input": "2021-10-24T22:23:45.364355Z",
     "iopub.status.busy": "2021-10-24T22:23:45.363643Z",
     "iopub.status.idle": "2021-10-24T22:23:45.390433Z",
     "shell.execute_reply": "2021-10-24T22:23:45.390953Z",
     "shell.execute_reply.started": "2021-10-24T21:21:57.865613Z"
    },
    "papermill": {
     "duration": 0.077407,
     "end_time": "2021-10-24T22:23:45.391176",
     "exception": false,
     "start_time": "2021-10-24T22:23:45.313769",
     "status": "completed"
    },
    "tags": []
   },
   "outputs": [
    {
     "data": {
      "text/plain": [
       "290584"
      ]
     },
     "execution_count": 4,
     "metadata": {},
     "output_type": "execute_result"
    }
   ],
   "source": [
    "df.user_id.nunique()"
   ]
  },
  {
   "cell_type": "markdown",
   "id": "019af35f",
   "metadata": {
    "papermill": {
     "duration": 0.04644,
     "end_time": "2021-10-24T22:23:45.484529",
     "exception": false,
     "start_time": "2021-10-24T22:23:45.438089",
     "status": "completed"
    },
    "tags": []
   },
   "source": [
    "**d.** The proportion of users converted."
   ]
  },
  {
   "cell_type": "code",
   "execution_count": 5,
   "id": "1db34271",
   "metadata": {
    "execution": {
     "iopub.execute_input": "2021-10-24T22:23:45.583384Z",
     "iopub.status.busy": "2021-10-24T22:23:45.582636Z",
     "iopub.status.idle": "2021-10-24T22:23:45.589361Z",
     "shell.execute_reply": "2021-10-24T22:23:45.589949Z",
     "shell.execute_reply.started": "2021-10-24T21:21:57.902171Z"
    },
    "papermill": {
     "duration": 0.058554,
     "end_time": "2021-10-24T22:23:45.590172",
     "exception": false,
     "start_time": "2021-10-24T22:23:45.531618",
     "status": "completed"
    },
    "tags": []
   },
   "outputs": [
    {
     "data": {
      "text/plain": [
       "0.11965919355605512"
      ]
     },
     "execution_count": 5,
     "metadata": {},
     "output_type": "execute_result"
    }
   ],
   "source": [
    "df.converted.mean()"
   ]
  },
  {
   "cell_type": "markdown",
   "id": "437d1a20",
   "metadata": {
    "papermill": {
     "duration": 0.047845,
     "end_time": "2021-10-24T22:23:45.686697",
     "exception": false,
     "start_time": "2021-10-24T22:23:45.638852",
     "status": "completed"
    },
    "tags": []
   },
   "source": [
    "**e.** The number of times when the \"group\" is `treatment` but \"landing_page\" is not a `new_page`."
   ]
  },
  {
   "cell_type": "code",
   "execution_count": 6,
   "id": "df179840",
   "metadata": {
    "execution": {
     "iopub.execute_input": "2021-10-24T22:23:45.787301Z",
     "iopub.status.busy": "2021-10-24T22:23:45.786275Z",
     "iopub.status.idle": "2021-10-24T22:23:45.894167Z",
     "shell.execute_reply": "2021-10-24T22:23:45.894747Z",
     "shell.execute_reply.started": "2021-10-24T21:21:57.912606Z"
    },
    "papermill": {
     "duration": 0.160044,
     "end_time": "2021-10-24T22:23:45.894950",
     "exception": false,
     "start_time": "2021-10-24T22:23:45.734906",
     "status": "completed"
    },
    "tags": []
   },
   "outputs": [
    {
     "data": {
      "text/plain": [
       "1965"
      ]
     },
     "execution_count": 6,
     "metadata": {},
     "output_type": "execute_result"
    }
   ],
   "source": [
    "df[(df['group'] == 'treatment') & (df['landing_page'] != 'new_page')].shape[0]"
   ]
  },
  {
   "cell_type": "markdown",
   "id": "bf1f4c7a",
   "metadata": {
    "papermill": {
     "duration": 0.048928,
     "end_time": "2021-10-24T22:23:45.992749",
     "exception": false,
     "start_time": "2021-10-24T22:23:45.943821",
     "status": "completed"
    },
    "tags": []
   },
   "source": [
    "**f.** Do any of the rows have missing values?"
   ]
  },
  {
   "cell_type": "code",
   "execution_count": 7,
   "id": "988f28f2",
   "metadata": {
    "execution": {
     "iopub.execute_input": "2021-10-24T22:23:46.094538Z",
     "iopub.status.busy": "2021-10-24T22:23:46.093484Z",
     "iopub.status.idle": "2021-10-24T22:24:22.142164Z",
     "shell.execute_reply": "2021-10-24T22:24:22.142683Z",
     "shell.execute_reply.started": "2021-10-24T21:21:58.026239Z"
    },
    "papermill": {
     "duration": 36.101446,
     "end_time": "2021-10-24T22:24:22.142861",
     "exception": false,
     "start_time": "2021-10-24T22:23:46.041415",
     "status": "completed"
    },
    "tags": []
   },
   "outputs": [
    {
     "data": {
      "text/plain": [
       "0"
      ]
     },
     "execution_count": 7,
     "metadata": {},
     "output_type": "execute_result"
    }
   ],
   "source": [
    "sum([True for idx,row in df.iterrows() if any(row.isnull())])"
   ]
  },
  {
   "cell_type": "markdown",
   "id": "7f15986f",
   "metadata": {
    "papermill": {
     "duration": 0.047338,
     "end_time": "2021-10-24T22:24:22.237553",
     "exception": false,
     "start_time": "2021-10-24T22:24:22.190215",
     "status": "completed"
    },
    "tags": []
   },
   "source": [
    "In a particular row, the **group** and **landing_page** columns should have either of the following acceptable values:\n",
    "\n",
    "|user_id| timestamp|group|landing_page|converted|\n",
    "|---|---|---|---|---|\n",
    "|XXXX|XXXX|`control`| `old_page`|X |\n",
    "|XXXX|XXXX|`treatment`|`new_page`|X |\n",
    "\n",
    "\n",
    "It means, the `control` group users should match with `old_page`; and `treatment` group users should matched with the `new_page`. \n",
    "\n",
    "However, for the rows where `treatment` does not match with `new_page` or `control` does not match with `old_page`, we cannot be sure if such rows truly received the new or old wepage.  "
   ]
  },
  {
   "cell_type": "code",
   "execution_count": 8,
   "id": "89dbb2ff",
   "metadata": {
    "execution": {
     "iopub.execute_input": "2021-10-24T22:24:22.435193Z",
     "iopub.status.busy": "2021-10-24T22:24:22.434426Z",
     "iopub.status.idle": "2021-10-24T22:24:22.559500Z",
     "shell.execute_reply": "2021-10-24T22:24:22.558878Z",
     "shell.execute_reply.started": "2021-10-24T21:22:32.720737Z"
    },
    "papermill": {
     "duration": 0.274834,
     "end_time": "2021-10-24T22:24:22.559643",
     "exception": false,
     "start_time": "2021-10-24T22:24:22.284809",
     "status": "completed"
    },
    "tags": []
   },
   "outputs": [],
   "source": [
    "# Removing the inaccurate rows, and storing the result in a new dataframe df2\n",
    "df2 = df[((df['group'] == 'control') & (df['landing_page'] == 'old_page')) | ((df['group'] == 'treatment') & (df['landing_page'] == 'new_page'))]"
   ]
  },
  {
   "cell_type": "code",
   "execution_count": 9,
   "id": "0102d36e",
   "metadata": {
    "execution": {
     "iopub.execute_input": "2021-10-24T22:24:22.708021Z",
     "iopub.status.busy": "2021-10-24T22:24:22.659496Z",
     "iopub.status.idle": "2021-10-24T22:24:22.766622Z",
     "shell.execute_reply": "2021-10-24T22:24:22.767182Z",
     "shell.execute_reply.started": "2021-10-24T21:22:32.938813Z"
    },
    "papermill": {
     "duration": 0.158729,
     "end_time": "2021-10-24T22:24:22.767360",
     "exception": false,
     "start_time": "2021-10-24T22:24:22.608631",
     "status": "completed"
    },
    "tags": []
   },
   "outputs": [
    {
     "data": {
      "text/plain": [
       "0"
      ]
     },
     "execution_count": 9,
     "metadata": {},
     "output_type": "execute_result"
    }
   ],
   "source": [
    "# Double Checking all of the incorrect rows were removed from df2 - \n",
    "# Output of the statement below should be 0\n",
    "df2[((df2['group'] == 'treatment') == (df2['landing_page'] == 'new_page')) == False].shape[0]"
   ]
  },
  {
   "cell_type": "markdown",
   "id": "768f3112",
   "metadata": {
    "papermill": {
     "duration": 0.047674,
     "end_time": "2021-10-24T22:24:22.863096",
     "exception": false,
     "start_time": "2021-10-24T22:24:22.815422",
     "status": "completed"
    },
    "tags": []
   },
   "source": [
    "**a.** How many unique **user_id**s are in **df2**?"
   ]
  },
  {
   "cell_type": "code",
   "execution_count": 10,
   "id": "db0d834f",
   "metadata": {
    "execution": {
     "iopub.execute_input": "2021-10-24T22:24:22.964952Z",
     "iopub.status.busy": "2021-10-24T22:24:22.963997Z",
     "iopub.status.idle": "2021-10-24T22:24:22.984506Z",
     "shell.execute_reply": "2021-10-24T22:24:22.985148Z",
     "shell.execute_reply.started": "2021-10-24T21:22:33.043731Z"
    },
    "papermill": {
     "duration": 0.073808,
     "end_time": "2021-10-24T22:24:22.985332",
     "exception": false,
     "start_time": "2021-10-24T22:24:22.911524",
     "status": "completed"
    },
    "tags": []
   },
   "outputs": [
    {
     "data": {
      "text/plain": [
       "290584"
      ]
     },
     "execution_count": 10,
     "metadata": {},
     "output_type": "execute_result"
    }
   ],
   "source": [
    "df2.user_id.nunique()"
   ]
  },
  {
   "cell_type": "markdown",
   "id": "4ca41ab3",
   "metadata": {
    "papermill": {
     "duration": 0.048118,
     "end_time": "2021-10-24T22:24:23.081699",
     "exception": false,
     "start_time": "2021-10-24T22:24:23.033581",
     "status": "completed"
    },
    "tags": []
   },
   "source": [
    "**b.** Are there repeated users?"
   ]
  },
  {
   "cell_type": "code",
   "execution_count": 11,
   "id": "d2a16de7",
   "metadata": {
    "execution": {
     "iopub.execute_input": "2021-10-24T22:24:23.183524Z",
     "iopub.status.busy": "2021-10-24T22:24:23.182632Z",
     "iopub.status.idle": "2021-10-24T22:24:23.195488Z",
     "shell.execute_reply": "2021-10-24T22:24:23.194784Z",
     "shell.execute_reply.started": "2021-10-24T21:22:33.066737Z"
    },
    "papermill": {
     "duration": 0.065508,
     "end_time": "2021-10-24T22:24:23.195649",
     "exception": false,
     "start_time": "2021-10-24T22:24:23.130141",
     "status": "completed"
    },
    "tags": []
   },
   "outputs": [
    {
     "data": {
      "text/plain": [
       "2893    773192\n",
       "Name: user_id, dtype: int64"
      ]
     },
     "execution_count": 11,
     "metadata": {},
     "output_type": "execute_result"
    }
   ],
   "source": [
    "df2[df2.user_id.duplicated()].user_id"
   ]
  },
  {
   "cell_type": "markdown",
   "id": "79a2b579",
   "metadata": {
    "papermill": {
     "duration": 0.049176,
     "end_time": "2021-10-24T22:24:23.293439",
     "exception": false,
     "start_time": "2021-10-24T22:24:23.244263",
     "status": "completed"
    },
    "tags": []
   },
   "source": [
    "**c.** Displaying the rows for the duplicate **user_id**"
   ]
  },
  {
   "cell_type": "code",
   "execution_count": 12,
   "id": "4c439e89",
   "metadata": {
    "execution": {
     "iopub.execute_input": "2021-10-24T22:24:23.394755Z",
     "iopub.status.busy": "2021-10-24T22:24:23.393784Z",
     "iopub.status.idle": "2021-10-24T22:24:23.410289Z",
     "shell.execute_reply": "2021-10-24T22:24:23.410839Z",
     "shell.execute_reply.started": "2021-10-24T21:22:33.083402Z"
    },
    "papermill": {
     "duration": 0.06882,
     "end_time": "2021-10-24T22:24:23.411024",
     "exception": false,
     "start_time": "2021-10-24T22:24:23.342204",
     "status": "completed"
    },
    "tags": []
   },
   "outputs": [
    {
     "data": {
      "text/html": [
       "<div>\n",
       "<style scoped>\n",
       "    .dataframe tbody tr th:only-of-type {\n",
       "        vertical-align: middle;\n",
       "    }\n",
       "\n",
       "    .dataframe tbody tr th {\n",
       "        vertical-align: top;\n",
       "    }\n",
       "\n",
       "    .dataframe thead th {\n",
       "        text-align: right;\n",
       "    }\n",
       "</style>\n",
       "<table border=\"1\" class=\"dataframe\">\n",
       "  <thead>\n",
       "    <tr style=\"text-align: right;\">\n",
       "      <th></th>\n",
       "      <th>user_id</th>\n",
       "      <th>timestamp</th>\n",
       "      <th>group</th>\n",
       "      <th>landing_page</th>\n",
       "      <th>converted</th>\n",
       "    </tr>\n",
       "  </thead>\n",
       "  <tbody>\n",
       "    <tr>\n",
       "      <th>2893</th>\n",
       "      <td>773192</td>\n",
       "      <td>2017-01-14 02:55:59.590927</td>\n",
       "      <td>treatment</td>\n",
       "      <td>new_page</td>\n",
       "      <td>0</td>\n",
       "    </tr>\n",
       "  </tbody>\n",
       "</table>\n",
       "</div>"
      ],
      "text/plain": [
       "      user_id                   timestamp      group landing_page  converted\n",
       "2893   773192  2017-01-14 02:55:59.590927  treatment     new_page          0"
      ]
     },
     "execution_count": 12,
     "metadata": {},
     "output_type": "execute_result"
    }
   ],
   "source": [
    "df2[df2.user_id.duplicated()]"
   ]
  },
  {
   "cell_type": "markdown",
   "id": "fb30ed5f",
   "metadata": {
    "papermill": {
     "duration": 0.048694,
     "end_time": "2021-10-24T22:24:23.508617",
     "exception": false,
     "start_time": "2021-10-24T22:24:23.459923",
     "status": "completed"
    },
    "tags": []
   },
   "source": [
    "**d.** Removing **one** of the rows with a duplicate **user_id**, from the **df2** dataframe."
   ]
  },
  {
   "cell_type": "code",
   "execution_count": 13,
   "id": "ed5f75da",
   "metadata": {
    "execution": {
     "iopub.execute_input": "2021-10-24T22:24:23.611774Z",
     "iopub.status.busy": "2021-10-24T22:24:23.610830Z",
     "iopub.status.idle": "2021-10-24T22:24:23.677226Z",
     "shell.execute_reply": "2021-10-24T22:24:23.677705Z",
     "shell.execute_reply.started": "2021-10-24T21:22:33.104482Z"
    },
    "papermill": {
     "duration": 0.119967,
     "end_time": "2021-10-24T22:24:23.677910",
     "exception": false,
     "start_time": "2021-10-24T22:24:23.557943",
     "status": "completed"
    },
    "tags": []
   },
   "outputs": [
    {
     "data": {
      "text/plain": [
       "0"
      ]
     },
     "execution_count": 13,
     "metadata": {},
     "output_type": "execute_result"
    }
   ],
   "source": [
    "# Removing one of the rows with a duplicate user_id..\n",
    "df2 = df2.drop_duplicates('user_id')\n",
    "# Checking again if the row with a duplicate user_id is deleted or not\n",
    "df2.user_id.duplicated().sum()"
   ]
  },
  {
   "cell_type": "markdown",
   "id": "7876d63e",
   "metadata": {
    "papermill": {
     "duration": 0.049231,
     "end_time": "2021-10-24T22:24:23.777064",
     "exception": false,
     "start_time": "2021-10-24T22:24:23.727833",
     "status": "completed"
    },
    "tags": []
   },
   "source": [
    "**a.** What is the probability of an individual converting regardless of the page they receive?<br><br>\n"
   ]
  },
  {
   "cell_type": "code",
   "execution_count": 14,
   "id": "55578f30",
   "metadata": {
    "execution": {
     "iopub.execute_input": "2021-10-24T22:24:23.882509Z",
     "iopub.status.busy": "2021-10-24T22:24:23.881686Z",
     "iopub.status.idle": "2021-10-24T22:24:23.886529Z",
     "shell.execute_reply": "2021-10-24T22:24:23.887057Z",
     "shell.execute_reply.started": "2021-10-24T21:22:33.155836Z"
    },
    "papermill": {
     "duration": 0.060673,
     "end_time": "2021-10-24T22:24:23.887229",
     "exception": false,
     "start_time": "2021-10-24T22:24:23.826556",
     "status": "completed"
    },
    "tags": []
   },
   "outputs": [
    {
     "data": {
      "text/plain": [
       "0.11959708724499628"
      ]
     },
     "execution_count": 14,
     "metadata": {},
     "output_type": "execute_result"
    }
   ],
   "source": [
    "p_population = df2.converted.mean()\n",
    "p_population"
   ]
  },
  {
   "cell_type": "markdown",
   "id": "1d68a982",
   "metadata": {
    "papermill": {
     "duration": 0.049291,
     "end_time": "2021-10-24T22:24:23.988142",
     "exception": false,
     "start_time": "2021-10-24T22:24:23.938851",
     "status": "completed"
    },
    "tags": []
   },
   "source": [
    "**b.** Given that an individual was in the `control` group, what is the probability they converted?"
   ]
  },
  {
   "cell_type": "code",
   "execution_count": 15,
   "id": "d0bb81d4",
   "metadata": {
    "execution": {
     "iopub.execute_input": "2021-10-24T22:24:24.092161Z",
     "iopub.status.busy": "2021-10-24T22:24:24.091449Z",
     "iopub.status.idle": "2021-10-24T22:24:24.157443Z",
     "shell.execute_reply": "2021-10-24T22:24:24.157948Z",
     "shell.execute_reply.started": "2021-10-24T21:22:33.164306Z"
    },
    "papermill": {
     "duration": 0.119588,
     "end_time": "2021-10-24T22:24:24.158137",
     "exception": false,
     "start_time": "2021-10-24T22:24:24.038549",
     "status": "completed"
    },
    "tags": []
   },
   "outputs": [
    {
     "data": {
      "text/plain": [
       "0.1203863045004612"
      ]
     },
     "execution_count": 15,
     "metadata": {},
     "output_type": "execute_result"
    }
   ],
   "source": [
    "p_control = df2[df2['group'] == 'control'].converted.mean()\n",
    "p_control"
   ]
  },
  {
   "cell_type": "markdown",
   "id": "bfc7f0c6",
   "metadata": {
    "papermill": {
     "duration": 0.052751,
     "end_time": "2021-10-24T22:24:24.261824",
     "exception": false,
     "start_time": "2021-10-24T22:24:24.209073",
     "status": "completed"
    },
    "tags": []
   },
   "source": [
    "**c.** Given that an individual was in the `treatment` group, what is the probability they converted?"
   ]
  },
  {
   "cell_type": "code",
   "execution_count": 16,
   "id": "2bf18050",
   "metadata": {
    "execution": {
     "iopub.execute_input": "2021-10-24T22:24:24.366657Z",
     "iopub.status.busy": "2021-10-24T22:24:24.365939Z",
     "iopub.status.idle": "2021-10-24T22:24:24.432226Z",
     "shell.execute_reply": "2021-10-24T22:24:24.432729Z",
     "shell.execute_reply.started": "2021-10-24T21:22:33.235870Z"
    },
    "papermill": {
     "duration": 0.120593,
     "end_time": "2021-10-24T22:24:24.432898",
     "exception": false,
     "start_time": "2021-10-24T22:24:24.312305",
     "status": "completed"
    },
    "tags": []
   },
   "outputs": [
    {
     "data": {
      "text/plain": [
       "0.11880806551510564"
      ]
     },
     "execution_count": 16,
     "metadata": {},
     "output_type": "execute_result"
    }
   ],
   "source": [
    "p_treatment = df2[df2['group'] == 'treatment'].converted.mean()\n",
    "p_treatment"
   ]
  },
  {
   "cell_type": "code",
   "execution_count": 17,
   "id": "6144323b",
   "metadata": {
    "execution": {
     "iopub.execute_input": "2021-10-24T22:24:24.537860Z",
     "iopub.status.busy": "2021-10-24T22:24:24.537203Z",
     "iopub.status.idle": "2021-10-24T22:24:24.541156Z",
     "shell.execute_reply": "2021-10-24T22:24:24.541697Z",
     "shell.execute_reply.started": "2021-10-24T21:22:33.301864Z"
    },
    "papermill": {
     "duration": 0.058454,
     "end_time": "2021-10-24T22:24:24.541874",
     "exception": false,
     "start_time": "2021-10-24T22:24:24.483420",
     "status": "completed"
    },
    "tags": []
   },
   "outputs": [],
   "source": [
    "# Calculating the actual difference (obs_diff) between the conversion rates for the two groups.\n",
    "obs_diff = p_treatment - p_control"
   ]
  },
  {
   "cell_type": "markdown",
   "id": "24865fd6",
   "metadata": {
    "papermill": {
     "duration": 0.05135,
     "end_time": "2021-10-24T22:24:24.644752",
     "exception": false,
     "start_time": "2021-10-24T22:24:24.593402",
     "status": "completed"
    },
    "tags": []
   },
   "source": [
    "**d.** What is the probability that an individual received the new page?"
   ]
  },
  {
   "cell_type": "code",
   "execution_count": 18,
   "id": "b1915260",
   "metadata": {
    "execution": {
     "iopub.execute_input": "2021-10-24T22:24:24.805174Z",
     "iopub.status.busy": "2021-10-24T22:24:24.804332Z",
     "iopub.status.idle": "2021-10-24T22:24:24.809051Z",
     "shell.execute_reply": "2021-10-24T22:24:24.809541Z",
     "shell.execute_reply.started": "2021-10-24T21:22:33.307777Z"
    },
    "papermill": {
     "duration": 0.113313,
     "end_time": "2021-10-24T22:24:24.809750",
     "exception": false,
     "start_time": "2021-10-24T22:24:24.696437",
     "status": "completed"
    },
    "tags": []
   },
   "outputs": [
    {
     "data": {
      "text/plain": [
       "0.5"
      ]
     },
     "execution_count": 18,
     "metadata": {},
     "output_type": "execute_result"
    }
   ],
   "source": [
    "(df.landing_page == 'new_page').mean()"
   ]
  },
  {
   "cell_type": "markdown",
   "id": "7a980d62",
   "metadata": {
    "papermill": {
     "duration": 0.053646,
     "end_time": "2021-10-24T22:24:24.915768",
     "exception": false,
     "start_time": "2021-10-24T22:24:24.862122",
     "status": "completed"
    },
    "tags": []
   },
   "source": [
    ">The new treatment group users led to a slightly lower conversion rate than the control group users, from which it seems that the conversion rate fot the old page is slightly higher than that of the new page."
   ]
  },
  {
   "cell_type": "markdown",
   "id": "147847ad",
   "metadata": {
    "papermill": {
     "duration": 0.051382,
     "end_time": "2021-10-24T22:24:25.019909",
     "exception": false,
     "start_time": "2021-10-24T22:24:24.968527",
     "status": "completed"
    },
    "tags": []
   },
   "source": [
    "<a id='ab_test'></a>\n",
    "## Part II - A/B Test\n",
    "\n",
    "Since a timestamp is associated with each event, I could run a hypothesis test continuously as long as I observe the events. \n",
    "\n",
    "However, then the hard questions would be: \n",
    "- Do I stop as soon as one page is considered significantly better than another or does it need to happen consistently for a certain amount of time?  \n",
    "- How long do I run to render a decision that neither page is better than another?  \n",
    "\n",
    "These questions are the difficult parts associated with A/B tests in general.  \n",
    "\n",
    "\n",
    "For now, I will consider I need to make the decision just based on all the data provided.  "
   ]
  },
  {
   "cell_type": "markdown",
   "id": "ce4c59e3",
   "metadata": {
    "papermill": {
     "duration": 0.051749,
     "end_time": "2021-10-24T22:24:25.123176",
     "exception": false,
     "start_time": "2021-10-24T22:24:25.071427",
     "status": "completed"
    },
    "tags": []
   },
   "source": [
    "Null hypothesis: P𝑛𝑒𝑤 <= P𝑜𝑙𝑑\n",
    "\n",
    "Alternative hypothesis: P𝑛𝑒𝑤 > P𝑜𝑙𝑑 "
   ]
  },
  {
   "cell_type": "markdown",
   "id": "7da6e567",
   "metadata": {
    "papermill": {
     "duration": 0.051394,
     "end_time": "2021-10-24T22:24:25.226076",
     "exception": false,
     "start_time": "2021-10-24T22:24:25.174682",
     "status": "completed"
    },
    "tags": []
   },
   "source": [
    "**Null Hypothesis $H_0$ Testing**\n",
    "\n",
    "Under the null hypothesis $H_0$, I will assume that $p_{new}$ and $p_{old}$ are equal. Furthermore, I will assume that $p_{new}$ and $p_{old}$ both are equal to the **converted** success rate in the `df2` data regardless of the page. So, my assumption is: <br><br>\n",
    "<center>\n",
    "$p_{new}$ = $p_{old}$ = $p_{population}$\n",
    "</center>\n",
    "\n",
    "In this section, I will: \n",
    "\n",
    "- Simulate (bootstrap) sample data set for both groups, and compute the  \"converted\" probability $p$ for those samples. \n",
    "\n",
    "\n",
    "- Use a sample size for each group equal to the ones in the `df2` data.\n",
    "\n",
    "\n",
    "- Compute the difference in the \"converted\" probability for the two samples above. \n",
    "\n",
    "\n",
    "- Perform the sampling distribution for the \"difference in the converted probability\" between the two simulated-samples over 10,000 iterations; and calculate an estimate. "
   ]
  },
  {
   "cell_type": "markdown",
   "id": "d4e65e1d",
   "metadata": {
    "papermill": {
     "duration": 0.051524,
     "end_time": "2021-10-24T22:24:25.329093",
     "exception": false,
     "start_time": "2021-10-24T22:24:25.277569",
     "status": "completed"
    },
    "tags": []
   },
   "source": [
    "**a.** What is $n_{new}$, the number of individuals in the treatment group? <br><br>"
   ]
  },
  {
   "cell_type": "code",
   "execution_count": 19,
   "id": "427e802e",
   "metadata": {
    "execution": {
     "iopub.execute_input": "2021-10-24T22:24:25.486433Z",
     "iopub.status.busy": "2021-10-24T22:24:25.485656Z",
     "iopub.status.idle": "2021-10-24T22:24:25.499560Z",
     "shell.execute_reply": "2021-10-24T22:24:25.498960Z",
     "shell.execute_reply.started": "2021-10-24T21:22:33.395483Z"
    },
    "papermill": {
     "duration": 0.119142,
     "end_time": "2021-10-24T22:24:25.499719",
     "exception": false,
     "start_time": "2021-10-24T22:24:25.380577",
     "status": "completed"
    },
    "tags": []
   },
   "outputs": [
    {
     "data": {
      "text/plain": [
       "145310"
      ]
     },
     "execution_count": 19,
     "metadata": {},
     "output_type": "execute_result"
    }
   ],
   "source": [
    "df2_new = df2[df2.landing_page == 'new_page']\n",
    "n_new = df2_new.shape[0]\n",
    "n_new"
   ]
  },
  {
   "cell_type": "markdown",
   "id": "f69afb6a",
   "metadata": {
    "papermill": {
     "duration": 0.051515,
     "end_time": "2021-10-24T22:24:25.603261",
     "exception": false,
     "start_time": "2021-10-24T22:24:25.551746",
     "status": "completed"
    },
    "tags": []
   },
   "source": [
    "**b.** What is $n_{old}$, the number of individuals in the control group?"
   ]
  },
  {
   "cell_type": "code",
   "execution_count": 20,
   "id": "ad49601e",
   "metadata": {
    "execution": {
     "iopub.execute_input": "2021-10-24T22:24:25.711447Z",
     "iopub.status.busy": "2021-10-24T22:24:25.710715Z",
     "iopub.status.idle": "2021-10-24T22:24:25.774391Z",
     "shell.execute_reply": "2021-10-24T22:24:25.774875Z",
     "shell.execute_reply.started": "2021-10-24T21:22:33.463032Z"
    },
    "papermill": {
     "duration": 0.119649,
     "end_time": "2021-10-24T22:24:25.775118",
     "exception": false,
     "start_time": "2021-10-24T22:24:25.655469",
     "status": "completed"
    },
    "tags": []
   },
   "outputs": [
    {
     "data": {
      "text/plain": [
       "145274"
      ]
     },
     "execution_count": 20,
     "metadata": {},
     "output_type": "execute_result"
    }
   ],
   "source": [
    "df2_old = df2[df2.landing_page == 'old_page']\n",
    "n_old = df2_old.shape[0]\n",
    "n_old"
   ]
  },
  {
   "cell_type": "markdown",
   "id": "95051b6c",
   "metadata": {
    "papermill": {
     "duration": 0.051567,
     "end_time": "2021-10-24T22:24:25.878517",
     "exception": false,
     "start_time": "2021-10-24T22:24:25.826950",
     "status": "completed"
    },
    "tags": []
   },
   "source": [
    "**c. Simulating Sample for the `treatment` Group**<br> \n",
    "Simulating $n_{new}$ transactions with a conversion rate of $p_{new}$ under the null hypothesis.  <br><br>\n"
   ]
  },
  {
   "cell_type": "code",
   "execution_count": 21,
   "id": "941b17c8",
   "metadata": {
    "execution": {
     "iopub.execute_input": "2021-10-24T22:24:25.992339Z",
     "iopub.status.busy": "2021-10-24T22:24:25.991381Z",
     "iopub.status.idle": "2021-10-24T22:24:25.998618Z",
     "shell.execute_reply": "2021-10-24T22:24:25.999149Z",
     "shell.execute_reply.started": "2021-10-24T21:22:33.530745Z"
    },
    "papermill": {
     "duration": 0.067821,
     "end_time": "2021-10-24T22:24:25.999389",
     "exception": false,
     "start_time": "2021-10-24T22:24:25.931568",
     "status": "completed"
    },
    "tags": []
   },
   "outputs": [],
   "source": [
    "# Simulating a Sample for the treatment Group\n",
    "new_page_converted = np.random.choice(df2_new.converted, n_new)"
   ]
  },
  {
   "cell_type": "markdown",
   "id": "9f7535db",
   "metadata": {
    "papermill": {
     "duration": 0.051997,
     "end_time": "2021-10-24T22:24:26.104024",
     "exception": false,
     "start_time": "2021-10-24T22:24:26.052027",
     "status": "completed"
    },
    "tags": []
   },
   "source": [
    "**d. Simulating Sample for the `control` Group** <br>\n",
    "Simulating $n_{old}$ transactions with a conversion rate of $p_{old}$ under the null hypothesis. <br> Storing these $n_{old}$ 1's and 0's in the `old_page_converted` numpy array."
   ]
  },
  {
   "cell_type": "code",
   "execution_count": 22,
   "id": "db2804a4",
   "metadata": {
    "execution": {
     "iopub.execute_input": "2021-10-24T22:24:26.215464Z",
     "iopub.status.busy": "2021-10-24T22:24:26.214709Z",
     "iopub.status.idle": "2021-10-24T22:24:26.221949Z",
     "shell.execute_reply": "2021-10-24T22:24:26.222562Z",
     "shell.execute_reply.started": "2021-10-24T21:22:33.542867Z"
    },
    "papermill": {
     "duration": 0.066415,
     "end_time": "2021-10-24T22:24:26.222768",
     "exception": false,
     "start_time": "2021-10-24T22:24:26.156353",
     "status": "completed"
    },
    "tags": []
   },
   "outputs": [],
   "source": [
    "# Simulating a Sample for the control Group\n",
    "old_page_converted = np.random.choice(df2_old.converted, n_old)"
   ]
  },
  {
   "cell_type": "markdown",
   "id": "6b452b44",
   "metadata": {
    "papermill": {
     "duration": 0.051714,
     "end_time": "2021-10-24T22:24:26.328017",
     "exception": false,
     "start_time": "2021-10-24T22:24:26.276303",
     "status": "completed"
    },
    "tags": []
   },
   "source": [
    "**e.** Finding the difference in the \"converted\" probability $(p{'}_{new}$ - $p{'}_{old})$ for my simulated samples. "
   ]
  },
  {
   "cell_type": "code",
   "execution_count": 23,
   "id": "01b75910",
   "metadata": {
    "execution": {
     "iopub.execute_input": "2021-10-24T22:24:26.435855Z",
     "iopub.status.busy": "2021-10-24T22:24:26.435202Z",
     "iopub.status.idle": "2021-10-24T22:24:26.440444Z",
     "shell.execute_reply": "2021-10-24T22:24:26.441074Z",
     "shell.execute_reply.started": "2021-10-24T21:22:33.554567Z"
    },
    "papermill": {
     "duration": 0.061157,
     "end_time": "2021-10-24T22:24:26.441266",
     "exception": false,
     "start_time": "2021-10-24T22:24:26.380109",
     "status": "completed"
    },
    "tags": []
   },
   "outputs": [
    {
     "data": {
      "text/plain": [
       "-0.001481773865739694"
      ]
     },
     "execution_count": 23,
     "metadata": {},
     "output_type": "execute_result"
    }
   ],
   "source": [
    "new_page_converted.mean() - old_page_converted.mean()"
   ]
  },
  {
   "cell_type": "markdown",
   "id": "b43f63b7",
   "metadata": {
    "papermill": {
     "duration": 0.051991,
     "end_time": "2021-10-24T22:24:26.545550",
     "exception": false,
     "start_time": "2021-10-24T22:24:26.493559",
     "status": "completed"
    },
    "tags": []
   },
   "source": [
    "\n",
    "**f. Sampling distribution** <br>\n",
    "Re-creating `new_page_converted` and `old_page_converted` and finding the $(p{'}_{new}$ - $p{'}_{old})$ value 10,000 times. \n",
    "\n",
    "<br>\n",
    "Storing all  $(p{'}_{new}$ - $p{'}_{old})$  values in a NumPy array called `p_diffs`."
   ]
  },
  {
   "cell_type": "code",
   "execution_count": 24,
   "id": "720f23d9",
   "metadata": {
    "execution": {
     "iopub.execute_input": "2021-10-24T22:24:26.658206Z",
     "iopub.status.busy": "2021-10-24T22:24:26.657413Z",
     "iopub.status.idle": "2021-10-24T22:25:50.313528Z",
     "shell.execute_reply": "2021-10-24T22:25:50.312918Z",
     "shell.execute_reply.started": "2021-10-24T21:22:33.562590Z"
    },
    "papermill": {
     "duration": 83.715603,
     "end_time": "2021-10-24T22:25:50.313754",
     "exception": false,
     "start_time": "2021-10-24T22:24:26.598151",
     "status": "completed"
    },
    "tags": []
   },
   "outputs": [],
   "source": [
    "# Sampling distribution \n",
    "\n",
    "p_diffs = []\n",
    "\n",
    "for i in range(10000):\n",
    "    new_page_converted = np.random.choice(df2_new.converted, n_new)\n",
    "    old_page_converted = np.random.choice(df2_old.converted, n_old)\n",
    "    p_diffs.append(new_page_converted.mean() - old_page_converted.mean())\n",
    "    \n",
    "p_diffs = np.array(p_diffs)"
   ]
  },
  {
   "cell_type": "markdown",
   "id": "25ce3f9e",
   "metadata": {
    "papermill": {
     "duration": 0.053063,
     "end_time": "2021-10-24T22:25:50.419497",
     "exception": false,
     "start_time": "2021-10-24T22:25:50.366434",
     "status": "completed"
    },
    "tags": []
   },
   "source": [
    "**g. Histogram**<br> \n",
    "Plotting a histogram of the **p_diffs**."
   ]
  },
  {
   "cell_type": "code",
   "execution_count": 25,
   "id": "964b0287",
   "metadata": {
    "execution": {
     "iopub.execute_input": "2021-10-24T22:25:50.527195Z",
     "iopub.status.busy": "2021-10-24T22:25:50.526431Z",
     "iopub.status.idle": "2021-10-24T22:25:50.822490Z",
     "shell.execute_reply": "2021-10-24T22:25:50.821911Z",
     "shell.execute_reply.started": "2021-10-24T21:23:51.061457Z"
    },
    "papermill": {
     "duration": 0.351292,
     "end_time": "2021-10-24T22:25:50.822651",
     "exception": false,
     "start_time": "2021-10-24T22:25:50.471359",
     "status": "completed"
    },
    "tags": []
   },
   "outputs": [
    {
     "data": {
      "image/png": "[encoded data removed]",
      "text/plain": [
       "<Figure size 432x288 with 1 Axes>"
      ]
     },
     "metadata": {
      "needs_background": "light"
     },
     "output_type": "display_data"
    }
   ],
   "source": [
    "plt.hist(p_diffs)\n",
    "plt.title('Sampling distribution for probability difference')\n",
    "plt.xlabel('Probability Difference')\n",
    "plt.ylabel('Number of Samples')\n",
    "plt.axvline(obs_diff, c='red');"
   ]
  },
  {
   "cell_type": "markdown",
   "id": "00d9bd59",
   "metadata": {
    "papermill": {
     "duration": 0.053083,
     "end_time": "2021-10-24T22:25:50.929384",
     "exception": false,
     "start_time": "2021-10-24T22:25:50.876301",
     "status": "completed"
    },
    "tags": []
   },
   "source": [
    "**h.** What proportion of the **p_diffs** are greater than the actual difference observed in the `df2` data?"
   ]
  },
  {
   "cell_type": "code",
   "execution_count": 26,
   "id": "a8a10ddf",
   "metadata": {
    "execution": {
     "iopub.execute_input": "2021-10-24T22:25:51.043965Z",
     "iopub.status.busy": "2021-10-24T22:25:51.043277Z",
     "iopub.status.idle": "2021-10-24T22:25:51.045904Z",
     "shell.execute_reply": "2021-10-24T22:25:51.046420Z",
     "shell.execute_reply.started": "2021-10-24T21:23:51.335092Z"
    },
    "papermill": {
     "duration": 0.062875,
     "end_time": "2021-10-24T22:25:51.046605",
     "exception": false,
     "start_time": "2021-10-24T22:25:50.983730",
     "status": "completed"
    },
    "tags": []
   },
   "outputs": [
    {
     "data": {
      "text/plain": [
       "0.5025"
      ]
     },
     "execution_count": 26,
     "metadata": {},
     "output_type": "execute_result"
    }
   ],
   "source": [
    "(p_diffs > obs_diff).mean()\n",
    "# p-value"
   ]
  },
  {
   "cell_type": "markdown",
   "id": "c57a5268",
   "metadata": {
    "papermill": {
     "duration": 0.052084,
     "end_time": "2021-10-24T22:25:51.151271",
     "exception": false,
     "start_time": "2021-10-24T22:25:51.099187",
     "status": "completed"
    },
    "tags": []
   },
   "source": [
    ">The p-value is much larger than the type 1 error rate, which indicates that we should not reject the null hypothesis concluding that there is no difference between the new and old pages."
   ]
  },
  {
   "cell_type": "markdown",
   "id": "79a441b6",
   "metadata": {
    "papermill": {
     "duration": 0.052813,
     "end_time": "2021-10-24T22:25:51.256509",
     "exception": false,
     "start_time": "2021-10-24T22:25:51.203696",
     "status": "completed"
    },
    "tags": []
   },
   "source": [
    "\n",
    "\n",
    "**I. Using Built-in Methods for Hypothesis Testing**<br>\n",
    "I could also use a built-in to achieve similar results.  Though using the built-in might be easier to code, the above portions are a walkthrough of the ideas that are critical to correctly thinking about statistical significance. \n"
   ]
  },
  {
   "cell_type": "code",
   "execution_count": 27,
   "id": "310dec88",
   "metadata": {
    "execution": {
     "iopub.execute_input": "2021-10-24T22:25:51.366785Z",
     "iopub.status.busy": "2021-10-24T22:25:51.366146Z",
     "iopub.status.idle": "2021-10-24T22:25:53.232518Z",
     "shell.execute_reply": "2021-10-24T22:25:53.231865Z",
     "shell.execute_reply.started": "2021-10-24T21:23:51.343803Z"
    },
    "papermill": {
     "duration": 1.923535,
     "end_time": "2021-10-24T22:25:53.232664",
     "exception": false,
     "start_time": "2021-10-24T22:25:51.309129",
     "status": "completed"
    },
    "tags": []
   },
   "outputs": [],
   "source": [
    "import statsmodels.api as sm\n",
    "\n",
    "# number of conversions with the old_page\n",
    "convert_old = df2_old.converted.sum()\n",
    "\n",
    "# number of conversions with the new_page\n",
    "convert_new = df2_new.converted.sum()"
   ]
  },
  {
   "cell_type": "markdown",
   "id": "31d3be43",
   "metadata": {
    "papermill": {
     "duration": 0.052343,
     "end_time": "2021-10-24T22:25:53.338114",
     "exception": false,
     "start_time": "2021-10-24T22:25:53.285771",
     "status": "completed"
    },
    "tags": []
   },
   "source": [
    "**m.** Now I will use `sm.stats.proportions_ztest()` to compute our test statistic and p-value.\n",
    "\n",
    "The syntax is: \n",
    "```bash\n",
    "proportions_ztest(count_array, nobs_array, alternative='larger')\n",
    "```\n",
    "where, \n",
    "- `count_array` = represents the number of \"converted\" for each group\n",
    "- `nobs_array` = represents the total number of observations (rows) in each group\n",
    "- `alternative` = choose one of the values from `[‘two-sided’, ‘smaller’, ‘larger’]` depending upon two-tailed, left-tailed, or right-tailed respectively. \n",
    "\n",
    "The built-in function above will return the z_score, p_value. \n",
    "\n",
    "---"
   ]
  },
  {
   "cell_type": "code",
   "execution_count": 28,
   "id": "0fbc01d4",
   "metadata": {
    "execution": {
     "iopub.execute_input": "2021-10-24T22:25:53.450496Z",
     "iopub.status.busy": "2021-10-24T22:25:53.449724Z",
     "iopub.status.idle": "2021-10-24T22:25:53.453486Z",
     "shell.execute_reply": "2021-10-24T22:25:53.454268Z",
     "shell.execute_reply.started": "2021-10-24T21:23:53.032343Z"
    },
    "papermill": {
     "duration": 0.063659,
     "end_time": "2021-10-24T22:25:53.454522",
     "exception": false,
     "start_time": "2021-10-24T22:25:53.390863",
     "status": "completed"
    },
    "tags": []
   },
   "outputs": [
    {
     "name": "stdout",
     "output_type": "stream",
     "text": [
      "-1.3109241984234394 0.9050583127590245\n"
     ]
    }
   ],
   "source": [
    "import statsmodels.api as sm\n",
    "z_score, p_value = sm.stats.proportions_ztest(np.array([convert_new, convert_old]), np.array([n_new, n_old]), alternative='larger')\n",
    "print(z_score, p_value)"
   ]
  },
  {
   "cell_type": "markdown",
   "id": "db365e6c",
   "metadata": {
    "papermill": {
     "duration": 0.053705,
     "end_time": "2021-10-24T22:25:53.562867",
     "exception": false,
     "start_time": "2021-10-24T22:25:53.509162",
     "status": "completed"
    },
    "tags": []
   },
   "source": [
    "* Since our critival value at a level of significance 0.05 equals 1.645 (from the z-table), and this test is a one-sided right-tailed test, therefore our Z score lies outside the rejection rejion, which can be observed directly by our p-value which is way greater than our level of significance, which indicates that there is no evidence to reject the null hypothesis, concluding that there is no difference in the conversion rates of the old and new pages.\n",
    "\n",
    "* Our z-test p-value is much larger than the p-value we got from the sampling distribution earlier, which indicates even weeker evidence to reject the null hypothesis."
   ]
  },
  {
   "cell_type": "markdown",
   "id": "86e97563",
   "metadata": {
    "papermill": {
     "duration": 0.055016,
     "end_time": "2021-10-24T22:25:53.671633",
     "exception": false,
     "start_time": "2021-10-24T22:25:53.616617",
     "status": "completed"
    },
    "tags": []
   },
   "source": [
    "<a id='regression'></a>\n",
    "### Part III - A regression approach\n",
    "\n",
    "In this final part, I will achieve the A/B test results by performing logistic regression.<br><br> "
   ]
  },
  {
   "cell_type": "code",
   "execution_count": 29,
   "id": "5af0fb72",
   "metadata": {
    "execution": {
     "iopub.execute_input": "2021-10-24T22:25:53.787013Z",
     "iopub.status.busy": "2021-10-24T22:25:53.786297Z",
     "iopub.status.idle": "2021-10-24T22:25:53.926632Z",
     "shell.execute_reply": "2021-10-24T22:25:53.925962Z",
     "shell.execute_reply.started": "2021-10-24T21:23:53.040276Z"
    },
    "papermill": {
     "duration": 0.199491,
     "end_time": "2021-10-24T22:25:53.926784",
     "exception": false,
     "start_time": "2021-10-24T22:25:53.727293",
     "status": "completed"
    },
    "tags": []
   },
   "outputs": [
    {
     "data": {
      "text/html": [
       "<div>\n",
       "<style scoped>\n",
       "    .dataframe tbody tr th:only-of-type {\n",
       "        vertical-align: middle;\n",
       "    }\n",
       "\n",
       "    .dataframe tbody tr th {\n",
       "        vertical-align: top;\n",
       "    }\n",
       "\n",
       "    .dataframe thead th {\n",
       "        text-align: right;\n",
       "    }\n",
       "</style>\n",
       "<table border=\"1\" class=\"dataframe\">\n",
       "  <thead>\n",
       "    <tr style=\"text-align: right;\">\n",
       "      <th></th>\n",
       "      <th>user_id</th>\n",
       "      <th>timestamp</th>\n",
       "      <th>group</th>\n",
       "      <th>landing_page</th>\n",
       "      <th>converted</th>\n",
       "      <th>intercept</th>\n",
       "      <th>ab_page</th>\n",
       "    </tr>\n",
       "  </thead>\n",
       "  <tbody>\n",
       "    <tr>\n",
       "      <th>0</th>\n",
       "      <td>851104</td>\n",
       "      <td>2017-01-21 22:11:48.556739</td>\n",
       "      <td>control</td>\n",
       "      <td>old_page</td>\n",
       "      <td>0</td>\n",
       "      <td>1</td>\n",
       "      <td>0</td>\n",
       "    </tr>\n",
       "    <tr>\n",
       "      <th>1</th>\n",
       "      <td>804228</td>\n",
       "      <td>2017-01-12 08:01:45.159739</td>\n",
       "      <td>control</td>\n",
       "      <td>old_page</td>\n",
       "      <td>0</td>\n",
       "      <td>1</td>\n",
       "      <td>0</td>\n",
       "    </tr>\n",
       "    <tr>\n",
       "      <th>2</th>\n",
       "      <td>661590</td>\n",
       "      <td>2017-01-11 16:55:06.154213</td>\n",
       "      <td>treatment</td>\n",
       "      <td>new_page</td>\n",
       "      <td>0</td>\n",
       "      <td>1</td>\n",
       "      <td>1</td>\n",
       "    </tr>\n",
       "    <tr>\n",
       "      <th>3</th>\n",
       "      <td>853541</td>\n",
       "      <td>2017-01-08 18:28:03.143765</td>\n",
       "      <td>treatment</td>\n",
       "      <td>new_page</td>\n",
       "      <td>0</td>\n",
       "      <td>1</td>\n",
       "      <td>1</td>\n",
       "    </tr>\n",
       "    <tr>\n",
       "      <th>4</th>\n",
       "      <td>864975</td>\n",
       "      <td>2017-01-21 01:52:26.210827</td>\n",
       "      <td>control</td>\n",
       "      <td>old_page</td>\n",
       "      <td>1</td>\n",
       "      <td>1</td>\n",
       "      <td>0</td>\n",
       "    </tr>\n",
       "  </tbody>\n",
       "</table>\n",
       "</div>"
      ],
      "text/plain": [
       "   user_id                   timestamp      group landing_page  converted  \\\n",
       "0   851104  2017-01-21 22:11:48.556739    control     old_page          0   \n",
       "1   804228  2017-01-12 08:01:45.159739    control     old_page          0   \n",
       "2   661590  2017-01-11 16:55:06.154213  treatment     new_page          0   \n",
       "3   853541  2017-01-08 18:28:03.143765  treatment     new_page          0   \n",
       "4   864975  2017-01-21 01:52:26.210827    control     old_page          1   \n",
       "\n",
       "   intercept  ab_page  \n",
       "0          1        0  \n",
       "1          1        0  \n",
       "2          1        1  \n",
       "3          1        1  \n",
       "4          1        0  "
      ]
     },
     "execution_count": 29,
     "metadata": {},
     "output_type": "execute_result"
    }
   ],
   "source": [
    "df2['intercept'] = 1\n",
    "\n",
    "df2 = df2.join(pd.get_dummies(df2['group'])).drop('control', axis=1).rename(columns={'treatment': 'ab_page'})\n",
    "\n",
    "df2.head()"
   ]
  },
  {
   "cell_type": "code",
   "execution_count": 30,
   "id": "a5a5d26a",
   "metadata": {
    "execution": {
     "iopub.execute_input": "2021-10-24T22:25:54.043956Z",
     "iopub.status.busy": "2021-10-24T22:25:54.043288Z",
     "iopub.status.idle": "2021-10-24T22:25:54.528914Z",
     "shell.execute_reply": "2021-10-24T22:25:54.529808Z",
     "shell.execute_reply.started": "2021-10-24T21:23:53.165581Z"
    },
    "papermill": {
     "duration": 0.548627,
     "end_time": "2021-10-24T22:25:54.530142",
     "exception": false,
     "start_time": "2021-10-24T22:25:53.981515",
     "status": "completed"
    },
    "tags": []
   },
   "outputs": [
    {
     "name": "stdout",
     "output_type": "stream",
     "text": [
      "Optimization terminated successfully.\n",
      "         Current function value: 0.366118\n",
      "         Iterations 6\n"
     ]
    }
   ],
   "source": [
    "logit_mod = sm.Logit(df2['converted'], df2[['intercept', 'ab_page']])\n",
    "\n",
    "results = logit_mod.fit()"
   ]
  },
  {
   "cell_type": "code",
   "execution_count": 31,
   "id": "12b17411",
   "metadata": {
    "execution": {
     "iopub.execute_input": "2021-10-24T22:25:54.701568Z",
     "iopub.status.busy": "2021-10-24T22:25:54.700528Z",
     "iopub.status.idle": "2021-10-24T22:25:56.954462Z",
     "shell.execute_reply": "2021-10-24T22:25:56.955508Z",
     "shell.execute_reply.started": "2021-10-24T21:23:53.600455Z"
    },
    "papermill": {
     "duration": 2.325547,
     "end_time": "2021-10-24T22:25:56.955800",
     "exception": false,
     "start_time": "2021-10-24T22:25:54.630253",
     "status": "completed"
    },
    "tags": []
   },
   "outputs": [
    {
     "data": {
      "text/html": [
       "<table class=\"simpletable\">\n",
       "<tr>\n",
       "        <td>Model:</td>              <td>Logit</td>      <td>Pseudo R-squared:</td>    <td>0.000</td>   \n",
       "</tr>\n",
       "<tr>\n",
       "  <td>Dependent Variable:</td>     <td>converted</td>          <td>AIC:</td>        <td>212780.3502</td>\n",
       "</tr>\n",
       "<tr>\n",
       "         <td>Date:</td>        <td>2021-10-24 22:25</td>       <td>BIC:</td>        <td>212801.5095</td>\n",
       "</tr>\n",
       "<tr>\n",
       "   <td>No. Observations:</td>       <td>290584</td>       <td>Log-Likelihood:</td>  <td>-1.0639e+05</td>\n",
       "</tr>\n",
       "<tr>\n",
       "       <td>Df Model:</td>              <td>1</td>            <td>LL-Null:</td>      <td>-1.0639e+05</td>\n",
       "</tr>\n",
       "<tr>\n",
       "     <td>Df Residuals:</td>         <td>290582</td>        <td>LLR p-value:</td>      <td>0.18988</td>  \n",
       "</tr>\n",
       "<tr>\n",
       "      <td>Converged:</td>           <td>1.0000</td>           <td>Scale:</td>         <td>1.0000</td>   \n",
       "</tr>\n",
       "<tr>\n",
       "    <td>No. Iterations:</td>        <td>6.0000</td>              <td></td>               <td></td>      \n",
       "</tr>\n",
       "</table>\n",
       "<table class=\"simpletable\">\n",
       "<tr>\n",
       "      <td></td>       <th>Coef.</th>  <th>Std.Err.</th>     <th>z</th>      <th>P>|z|</th> <th>[0.025</th>  <th>0.975]</th> \n",
       "</tr>\n",
       "<tr>\n",
       "  <th>intercept</th> <td>-1.9888</td>  <td>0.0081</td>  <td>-246.6690</td> <td>0.0000</td> <td>-2.0046</td> <td>-1.9730</td>\n",
       "</tr>\n",
       "<tr>\n",
       "  <th>ab_page</th>   <td>-0.0150</td>  <td>0.0114</td>   <td>-1.3109</td>  <td>0.1899</td> <td>-0.0374</td> <td>0.0074</td> \n",
       "</tr>\n",
       "</table>"
      ],
      "text/plain": [
       "<class 'statsmodels.iolib.summary2.Summary'>\n",
       "\"\"\"\n",
       "                          Results: Logit\n",
       "==================================================================\n",
       "Model:              Logit            Pseudo R-squared: 0.000      \n",
       "Dependent Variable: converted        AIC:              212780.3502\n",
       "Date:               2021-10-24 22:25 BIC:              212801.5095\n",
       "No. Observations:   290584           Log-Likelihood:   -1.0639e+05\n",
       "Df Model:           1                LL-Null:          -1.0639e+05\n",
       "Df Residuals:       290582           LLR p-value:      0.18988    \n",
       "Converged:          1.0000           Scale:            1.0000     \n",
       "No. Iterations:     6.0000                                        \n",
       "-------------------------------------------------------------------\n",
       "              Coef.   Std.Err.      z      P>|z|    [0.025   0.975]\n",
       "-------------------------------------------------------------------\n",
       "intercept    -1.9888    0.0081  -246.6690  0.0000  -2.0046  -1.9730\n",
       "ab_page      -0.0150    0.0114    -1.3109  0.1899  -0.0374   0.0074\n",
       "==================================================================\n",
       "\n",
       "\"\"\""
      ]
     },
     "execution_count": 31,
     "metadata": {},
     "output_type": "execute_result"
    }
   ],
   "source": [
    "results.summary2()"
   ]
  },
  {
   "cell_type": "markdown",
   "id": "70d55d95",
   "metadata": {
    "papermill": {
     "duration": 0.054063,
     "end_time": "2021-10-24T22:25:57.088628",
     "exception": false,
     "start_time": "2021-10-24T22:25:57.034565",
     "status": "completed"
    },
    "tags": []
   },
   "source": [
    "* P-value = 0.1899\n",
    "\n",
    "* Our p-value is higher than the type 1 error rate from which we fail to reject the null hypothesis, however it is much lower than the p-value we got from the z-test, and that's because the p-value in the z-test was associated with a one-sided alternative hypothesis (P𝑛𝑒𝑤 > P𝑜𝑙𝑑), while our p-value associated with our regression model is associated with a two-sided alternative hypothesis (P𝑛𝑒𝑤 != P𝑜𝑙𝑑) as we are testing if the new webpage has any effect on the conversion rate wether a negative one or a positive one."
   ]
  },
  {
   "cell_type": "markdown",
   "id": "5b2d100c",
   "metadata": {
    "papermill": {
     "duration": 0.053892,
     "end_time": "2021-10-24T22:25:57.196750",
     "exception": false,
     "start_time": "2021-10-24T22:25:57.142858",
     "status": "completed"
    },
    "tags": []
   },
   "source": [
    "* It is a good idea to consider adding the timestamp feature to our regression model as there might be a correlation between the time when the user visited the webpage and wether or not he/she converts which would make a stronger and more accurate regression model.\n",
    "\n",
    "* The disadvantage of adding this term to our model is that if there exist any correlation between this term and the ab_page term, the p-value of ab_page won't be a reliable and true represention of the significance of our null hypothesis."
   ]
  },
  {
   "cell_type": "markdown",
   "id": "5a565e69",
   "metadata": {
    "papermill": {
     "duration": 0.054044,
     "end_time": "2021-10-24T22:25:57.305082",
     "exception": false,
     "start_time": "2021-10-24T22:25:57.251038",
     "status": "completed"
    },
    "tags": []
   },
   "source": [
    "**Adding countries**<br> \n",
    "Now along with testing if the conversion rate changes for different pages, I will also add an effect based on which country a user lives in. "
   ]
  },
  {
   "cell_type": "code",
   "execution_count": 32,
   "id": "c937aa90",
   "metadata": {
    "execution": {
     "iopub.execute_input": "2021-10-24T22:25:57.419470Z",
     "iopub.status.busy": "2021-10-24T22:25:57.418801Z",
     "iopub.status.idle": "2021-10-24T22:25:57.539719Z",
     "shell.execute_reply": "2021-10-24T22:25:57.540228Z",
     "shell.execute_reply.started": "2021-10-24T21:23:55.586648Z"
    },
    "papermill": {
     "duration": 0.1806,
     "end_time": "2021-10-24T22:25:57.540419",
     "exception": false,
     "start_time": "2021-10-24T22:25:57.359819",
     "status": "completed"
    },
    "tags": []
   },
   "outputs": [
    {
     "data": {
      "text/html": [
       "<div>\n",
       "<style scoped>\n",
       "    .dataframe tbody tr th:only-of-type {\n",
       "        vertical-align: middle;\n",
       "    }\n",
       "\n",
       "    .dataframe tbody tr th {\n",
       "        vertical-align: top;\n",
       "    }\n",
       "\n",
       "    .dataframe thead th {\n",
       "        text-align: right;\n",
       "    }\n",
       "</style>\n",
       "<table border=\"1\" class=\"dataframe\">\n",
       "  <thead>\n",
       "    <tr style=\"text-align: right;\">\n",
       "      <th></th>\n",
       "      <th>user_id</th>\n",
       "      <th>country</th>\n",
       "    </tr>\n",
       "  </thead>\n",
       "  <tbody>\n",
       "    <tr>\n",
       "      <th>0</th>\n",
       "      <td>834778</td>\n",
       "      <td>UK</td>\n",
       "    </tr>\n",
       "    <tr>\n",
       "      <th>1</th>\n",
       "      <td>928468</td>\n",
       "      <td>US</td>\n",
       "    </tr>\n",
       "    <tr>\n",
       "      <th>2</th>\n",
       "      <td>822059</td>\n",
       "      <td>UK</td>\n",
       "    </tr>\n",
       "    <tr>\n",
       "      <th>3</th>\n",
       "      <td>711597</td>\n",
       "      <td>UK</td>\n",
       "    </tr>\n",
       "    <tr>\n",
       "      <th>4</th>\n",
       "      <td>710616</td>\n",
       "      <td>UK</td>\n",
       "    </tr>\n",
       "  </tbody>\n",
       "</table>\n",
       "</div>"
      ],
      "text/plain": [
       "   user_id country\n",
       "0   834778      UK\n",
       "1   928468      US\n",
       "2   822059      UK\n",
       "3   711597      UK\n",
       "4   710616      UK"
      ]
     },
     "execution_count": 32,
     "metadata": {},
     "output_type": "execute_result"
    }
   ],
   "source": [
    "# Reading the countries.csv\n",
    "df_countries = pd.read_csv('../input/ab-testing-dataset/countries.csv')\n",
    "df_countries.head()"
   ]
  },
  {
   "cell_type": "code",
   "execution_count": 33,
   "id": "ff34aa9f",
   "metadata": {
    "execution": {
     "iopub.execute_input": "2021-10-24T22:25:57.653410Z",
     "iopub.status.busy": "2021-10-24T22:25:57.652761Z",
     "iopub.status.idle": "2021-10-24T22:25:57.795457Z",
     "shell.execute_reply": "2021-10-24T22:25:57.794794Z",
     "shell.execute_reply.started": "2021-10-24T21:23:55.754561Z"
    },
    "papermill": {
     "duration": 0.200407,
     "end_time": "2021-10-24T22:25:57.795596",
     "exception": false,
     "start_time": "2021-10-24T22:25:57.595189",
     "status": "completed"
    },
    "tags": []
   },
   "outputs": [
    {
     "data": {
      "text/html": [
       "<div>\n",
       "<style scoped>\n",
       "    .dataframe tbody tr th:only-of-type {\n",
       "        vertical-align: middle;\n",
       "    }\n",
       "\n",
       "    .dataframe tbody tr th {\n",
       "        vertical-align: top;\n",
       "    }\n",
       "\n",
       "    .dataframe thead th {\n",
       "        text-align: right;\n",
       "    }\n",
       "</style>\n",
       "<table border=\"1\" class=\"dataframe\">\n",
       "  <thead>\n",
       "    <tr style=\"text-align: right;\">\n",
       "      <th></th>\n",
       "      <th>user_id</th>\n",
       "      <th>timestamp</th>\n",
       "      <th>group</th>\n",
       "      <th>landing_page</th>\n",
       "      <th>converted</th>\n",
       "      <th>intercept</th>\n",
       "      <th>ab_page</th>\n",
       "      <th>country</th>\n",
       "    </tr>\n",
       "  </thead>\n",
       "  <tbody>\n",
       "    <tr>\n",
       "      <th>0</th>\n",
       "      <td>851104</td>\n",
       "      <td>2017-01-21 22:11:48.556739</td>\n",
       "      <td>control</td>\n",
       "      <td>old_page</td>\n",
       "      <td>0</td>\n",
       "      <td>1</td>\n",
       "      <td>0</td>\n",
       "      <td>US</td>\n",
       "    </tr>\n",
       "    <tr>\n",
       "      <th>1</th>\n",
       "      <td>804228</td>\n",
       "      <td>2017-01-12 08:01:45.159739</td>\n",
       "      <td>control</td>\n",
       "      <td>old_page</td>\n",
       "      <td>0</td>\n",
       "      <td>1</td>\n",
       "      <td>0</td>\n",
       "      <td>US</td>\n",
       "    </tr>\n",
       "    <tr>\n",
       "      <th>2</th>\n",
       "      <td>661590</td>\n",
       "      <td>2017-01-11 16:55:06.154213</td>\n",
       "      <td>treatment</td>\n",
       "      <td>new_page</td>\n",
       "      <td>0</td>\n",
       "      <td>1</td>\n",
       "      <td>1</td>\n",
       "      <td>US</td>\n",
       "    </tr>\n",
       "    <tr>\n",
       "      <th>3</th>\n",
       "      <td>853541</td>\n",
       "      <td>2017-01-08 18:28:03.143765</td>\n",
       "      <td>treatment</td>\n",
       "      <td>new_page</td>\n",
       "      <td>0</td>\n",
       "      <td>1</td>\n",
       "      <td>1</td>\n",
       "      <td>US</td>\n",
       "    </tr>\n",
       "    <tr>\n",
       "      <th>4</th>\n",
       "      <td>864975</td>\n",
       "      <td>2017-01-21 01:52:26.210827</td>\n",
       "      <td>control</td>\n",
       "      <td>old_page</td>\n",
       "      <td>1</td>\n",
       "      <td>1</td>\n",
       "      <td>0</td>\n",
       "      <td>US</td>\n",
       "    </tr>\n",
       "  </tbody>\n",
       "</table>\n",
       "</div>"
      ],
      "text/plain": [
       "   user_id                   timestamp      group landing_page  converted  \\\n",
       "0   851104  2017-01-21 22:11:48.556739    control     old_page          0   \n",
       "1   804228  2017-01-12 08:01:45.159739    control     old_page          0   \n",
       "2   661590  2017-01-11 16:55:06.154213  treatment     new_page          0   \n",
       "3   853541  2017-01-08 18:28:03.143765  treatment     new_page          0   \n",
       "4   864975  2017-01-21 01:52:26.210827    control     old_page          1   \n",
       "\n",
       "   intercept  ab_page country  \n",
       "0          1        0      US  \n",
       "1          1        0      US  \n",
       "2          1        1      US  \n",
       "3          1        1      US  \n",
       "4          1        0      US  "
      ]
     },
     "execution_count": 33,
     "metadata": {},
     "output_type": "execute_result"
    }
   ],
   "source": [
    "# Joinning with the df2 dataframe\n",
    "df_merged = df2.merge(df_countries, on='user_id')\n",
    "df_merged.head()"
   ]
  },
  {
   "cell_type": "code",
   "execution_count": 34,
   "id": "34a14784",
   "metadata": {
    "execution": {
     "iopub.execute_input": "2021-10-24T22:25:57.910228Z",
     "iopub.status.busy": "2021-10-24T22:25:57.909553Z",
     "iopub.status.idle": "2021-10-24T22:25:57.976821Z",
     "shell.execute_reply": "2021-10-24T22:25:57.977388Z",
     "shell.execute_reply.started": "2021-10-24T21:23:55.865862Z"
    },
    "papermill": {
     "duration": 0.126559,
     "end_time": "2021-10-24T22:25:57.977590",
     "exception": false,
     "start_time": "2021-10-24T22:25:57.851031",
     "status": "completed"
    },
    "tags": []
   },
   "outputs": [
    {
     "data": {
      "text/html": [
       "<div>\n",
       "<style scoped>\n",
       "    .dataframe tbody tr th:only-of-type {\n",
       "        vertical-align: middle;\n",
       "    }\n",
       "\n",
       "    .dataframe tbody tr th {\n",
       "        vertical-align: top;\n",
       "    }\n",
       "\n",
       "    .dataframe thead th {\n",
       "        text-align: right;\n",
       "    }\n",
       "</style>\n",
       "<table border=\"1\" class=\"dataframe\">\n",
       "  <thead>\n",
       "    <tr style=\"text-align: right;\">\n",
       "      <th></th>\n",
       "      <th>user_id</th>\n",
       "      <th>timestamp</th>\n",
       "      <th>group</th>\n",
       "      <th>landing_page</th>\n",
       "      <th>converted</th>\n",
       "      <th>intercept</th>\n",
       "      <th>ab_page</th>\n",
       "      <th>country</th>\n",
       "      <th>CA</th>\n",
       "      <th>UK</th>\n",
       "      <th>US</th>\n",
       "    </tr>\n",
       "  </thead>\n",
       "  <tbody>\n",
       "    <tr>\n",
       "      <th>0</th>\n",
       "      <td>851104</td>\n",
       "      <td>2017-01-21 22:11:48.556739</td>\n",
       "      <td>control</td>\n",
       "      <td>old_page</td>\n",
       "      <td>0</td>\n",
       "      <td>1</td>\n",
       "      <td>0</td>\n",
       "      <td>US</td>\n",
       "      <td>0</td>\n",
       "      <td>0</td>\n",
       "      <td>1</td>\n",
       "    </tr>\n",
       "    <tr>\n",
       "      <th>1</th>\n",
       "      <td>804228</td>\n",
       "      <td>2017-01-12 08:01:45.159739</td>\n",
       "      <td>control</td>\n",
       "      <td>old_page</td>\n",
       "      <td>0</td>\n",
       "      <td>1</td>\n",
       "      <td>0</td>\n",
       "      <td>US</td>\n",
       "      <td>0</td>\n",
       "      <td>0</td>\n",
       "      <td>1</td>\n",
       "    </tr>\n",
       "    <tr>\n",
       "      <th>2</th>\n",
       "      <td>661590</td>\n",
       "      <td>2017-01-11 16:55:06.154213</td>\n",
       "      <td>treatment</td>\n",
       "      <td>new_page</td>\n",
       "      <td>0</td>\n",
       "      <td>1</td>\n",
       "      <td>1</td>\n",
       "      <td>US</td>\n",
       "      <td>0</td>\n",
       "      <td>0</td>\n",
       "      <td>1</td>\n",
       "    </tr>\n",
       "    <tr>\n",
       "      <th>3</th>\n",
       "      <td>853541</td>\n",
       "      <td>2017-01-08 18:28:03.143765</td>\n",
       "      <td>treatment</td>\n",
       "      <td>new_page</td>\n",
       "      <td>0</td>\n",
       "      <td>1</td>\n",
       "      <td>1</td>\n",
       "      <td>US</td>\n",
       "      <td>0</td>\n",
       "      <td>0</td>\n",
       "      <td>1</td>\n",
       "    </tr>\n",
       "    <tr>\n",
       "      <th>4</th>\n",
       "      <td>864975</td>\n",
       "      <td>2017-01-21 01:52:26.210827</td>\n",
       "      <td>control</td>\n",
       "      <td>old_page</td>\n",
       "      <td>1</td>\n",
       "      <td>1</td>\n",
       "      <td>0</td>\n",
       "      <td>US</td>\n",
       "      <td>0</td>\n",
       "      <td>0</td>\n",
       "      <td>1</td>\n",
       "    </tr>\n",
       "  </tbody>\n",
       "</table>\n",
       "</div>"
      ],
      "text/plain": [
       "   user_id                   timestamp      group landing_page  converted  \\\n",
       "0   851104  2017-01-21 22:11:48.556739    control     old_page          0   \n",
       "1   804228  2017-01-12 08:01:45.159739    control     old_page          0   \n",
       "2   661590  2017-01-11 16:55:06.154213  treatment     new_page          0   \n",
       "3   853541  2017-01-08 18:28:03.143765  treatment     new_page          0   \n",
       "4   864975  2017-01-21 01:52:26.210827    control     old_page          1   \n",
       "\n",
       "   intercept  ab_page country  CA  UK  US  \n",
       "0          1        0      US   0   0   1  \n",
       "1          1        0      US   0   0   1  \n",
       "2          1        1      US   0   0   1  \n",
       "3          1        1      US   0   0   1  \n",
       "4          1        0      US   0   0   1  "
      ]
     },
     "execution_count": 34,
     "metadata": {},
     "output_type": "execute_result"
    }
   ],
   "source": [
    "# Creating the necessary dummy variables\n",
    "df_merged = df_merged.join(pd.get_dummies(df_merged['country']))\n",
    "df_merged.head()"
   ]
  },
  {
   "cell_type": "code",
   "execution_count": 35,
   "id": "d8c3f1f0",
   "metadata": {
    "execution": {
     "iopub.execute_input": "2021-10-24T22:25:58.096824Z",
     "iopub.status.busy": "2021-10-24T22:25:58.096190Z",
     "iopub.status.idle": "2021-10-24T22:26:00.701740Z",
     "shell.execute_reply": "2021-10-24T22:26:00.702686Z",
     "shell.execute_reply.started": "2021-10-24T21:23:55.935065Z"
    },
    "papermill": {
     "duration": 2.667479,
     "end_time": "2021-10-24T22:26:00.702993",
     "exception": false,
     "start_time": "2021-10-24T22:25:58.035514",
     "status": "completed"
    },
    "tags": []
   },
   "outputs": [
    {
     "name": "stdout",
     "output_type": "stream",
     "text": [
      "Optimization terminated successfully.\n",
      "         Current function value: 0.366113\n",
      "         Iterations 6\n"
     ]
    },
    {
     "data": {
      "text/html": [
       "<table class=\"simpletable\">\n",
       "<tr>\n",
       "        <td>Model:</td>              <td>Logit</td>      <td>Pseudo R-squared:</td>    <td>0.000</td>   \n",
       "</tr>\n",
       "<tr>\n",
       "  <td>Dependent Variable:</td>     <td>converted</td>          <td>AIC:</td>        <td>212781.1253</td>\n",
       "</tr>\n",
       "<tr>\n",
       "         <td>Date:</td>        <td>2021-10-24 22:25</td>       <td>BIC:</td>        <td>212823.4439</td>\n",
       "</tr>\n",
       "<tr>\n",
       "   <td>No. Observations:</td>       <td>290584</td>       <td>Log-Likelihood:</td>  <td>-1.0639e+05</td>\n",
       "</tr>\n",
       "<tr>\n",
       "       <td>Df Model:</td>              <td>3</td>            <td>LL-Null:</td>      <td>-1.0639e+05</td>\n",
       "</tr>\n",
       "<tr>\n",
       "     <td>Df Residuals:</td>         <td>290580</td>        <td>LLR p-value:</td>      <td>0.17599</td>  \n",
       "</tr>\n",
       "<tr>\n",
       "      <td>Converged:</td>           <td>1.0000</td>           <td>Scale:</td>         <td>1.0000</td>   \n",
       "</tr>\n",
       "<tr>\n",
       "    <td>No. Iterations:</td>        <td>6.0000</td>              <td></td>               <td></td>      \n",
       "</tr>\n",
       "</table>\n",
       "<table class=\"simpletable\">\n",
       "<tr>\n",
       "      <td></td>       <th>Coef.</th>  <th>Std.Err.</th>     <th>z</th>      <th>P>|z|</th> <th>[0.025</th>  <th>0.975]</th> \n",
       "</tr>\n",
       "<tr>\n",
       "  <th>intercept</th> <td>-1.9893</td>  <td>0.0089</td>  <td>-223.7628</td> <td>0.0000</td> <td>-2.0067</td> <td>-1.9718</td>\n",
       "</tr>\n",
       "<tr>\n",
       "  <th>ab_page</th>   <td>-0.0149</td>  <td>0.0114</td>   <td>-1.3069</td>  <td>0.1912</td> <td>-0.0374</td> <td>0.0075</td> \n",
       "</tr>\n",
       "<tr>\n",
       "  <th>CA</th>        <td>-0.0408</td>  <td>0.0269</td>   <td>-1.5161</td>  <td>0.1295</td> <td>-0.0934</td> <td>0.0119</td> \n",
       "</tr>\n",
       "<tr>\n",
       "  <th>UK</th>        <td>0.0099</td>   <td>0.0133</td>   <td>0.7433</td>   <td>0.4573</td> <td>-0.0162</td> <td>0.0359</td> \n",
       "</tr>\n",
       "</table>"
      ],
      "text/plain": [
       "<class 'statsmodels.iolib.summary2.Summary'>\n",
       "\"\"\"\n",
       "                          Results: Logit\n",
       "==================================================================\n",
       "Model:              Logit            Pseudo R-squared: 0.000      \n",
       "Dependent Variable: converted        AIC:              212781.1253\n",
       "Date:               2021-10-24 22:25 BIC:              212823.4439\n",
       "No. Observations:   290584           Log-Likelihood:   -1.0639e+05\n",
       "Df Model:           3                LL-Null:          -1.0639e+05\n",
       "Df Residuals:       290580           LLR p-value:      0.17599    \n",
       "Converged:          1.0000           Scale:            1.0000     \n",
       "No. Iterations:     6.0000                                        \n",
       "-------------------------------------------------------------------\n",
       "              Coef.   Std.Err.      z      P>|z|    [0.025   0.975]\n",
       "-------------------------------------------------------------------\n",
       "intercept    -1.9893    0.0089  -223.7628  0.0000  -2.0067  -1.9718\n",
       "ab_page      -0.0149    0.0114    -1.3069  0.1912  -0.0374   0.0075\n",
       "CA           -0.0408    0.0269    -1.5161  0.1295  -0.0934   0.0119\n",
       "UK            0.0099    0.0133     0.7433  0.4573  -0.0162   0.0359\n",
       "==================================================================\n",
       "\n",
       "\"\"\""
      ]
     },
     "execution_count": 35,
     "metadata": {},
     "output_type": "execute_result"
    }
   ],
   "source": [
    "# Fitting our model, and summarizing the results\n",
    "\n",
    "logit_mod = sm.Logit(df_merged['converted'], df_merged[['intercept', 'ab_page', 'CA', 'UK']]) # US as the baseline.\n",
    "\n",
    "results = logit_mod.fit()\n",
    "\n",
    "results.summary2()"
   ]
  },
  {
   "cell_type": "markdown",
   "id": "210032dc",
   "metadata": {
    "papermill": {
     "duration": 0.058218,
     "end_time": "2021-10-24T22:26:00.837644",
     "exception": false,
     "start_time": "2021-10-24T22:26:00.779426",
     "status": "completed"
    },
    "tags": []
   },
   "source": [
    ">All our features scored a p-value greater than the type 1 error rate (0.05), from which we fail to reject the null hypothesis of having a zero effect on the outcome feature, which indicates that there is no any significant effect for page and country on conversion. From which it seems that the new webpage doesn't have more attraction from users from a specific country, but no matter which country the user was from the new webpage didn't have a better conversion rate."
   ]
  }
 ],
 "metadata": {
  "kernelspec": {
   "display_name": "Python 3",
   "language": "python",
   "name": "python3"
  },
  "language_info": {
   "codemirror_mode": {
    "name": "ipython",
    "version": 3
   },
   "file_extension": ".py",
   "mimetype": "text/x-python",
   "name": "python",
   "nbconvert_exporter": "python",
   "pygments_lexer": "ipython3",
   "version": "3.7.10"
  },
  "papermill": {
   "default_parameters": {},
   "duration": 148.208806,
   "end_time": "2021-10-24T22:26:01.910762",
   "environment_variables": {},
   "exception": null,
   "input_path": "__notebook__.ipynb",
   "output_path": "__notebook__.ipynb",
   "parameters": {},
   "start_time": "2021-10-24T22:23:33.701956",
   "version": "2.3.3"
  }
 },
 "nbformat": 4,
 "nbformat_minor": 5
}
